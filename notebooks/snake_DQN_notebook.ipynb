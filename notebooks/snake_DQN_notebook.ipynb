{
 "cells": [
  {
   "cell_type": "markdown",
   "id": "be1578f2",
   "metadata": {},
   "source": [
    "# UBA - Aprendizaje por Refuerzo I\n",
    "## Desafío práctico - Snake + DQN (PyTorch) \n",
    "\n",
    "**Objetivo:** entrenar un **DQN con CNN** sobre un entorno **Snake** propio (sin Gym), graficar la **convergencia** (media móvil), y evaluar la política **greedy** aprendida.\n",
    "\n",
    "> Requisitos:\n",
    "> ```bash\n",
    "> pip install torch matplotlib numpy\n",
    "> ```\n",
    "> - Corre en **CPU**, **CUDA** o **MPS** (Apple Silicon).  \n",
    "> - La red usa **Global Average Pool (1×1)** para evitar el error de MPS con tallas no divisibles.\n"
   ]
  },
  {
   "cell_type": "code",
   "execution_count": 2,
   "id": "a5e32c57",
   "metadata": {},
   "outputs": [
    {
     "data": {
      "text/plain": [
       "device(type='mps')"
      ]
     },
     "execution_count": 2,
     "metadata": {},
     "output_type": "execute_result"
    }
   ],
   "source": [
    "\n",
    "import math, random, time\n",
    "from collections import deque\n",
    "from dataclasses import dataclass\n",
    "from typing import Tuple, List\n",
    "\n",
    "import numpy as np\n",
    "import torch\n",
    "import torch.nn as nn\n",
    "import torch.optim as optim\n",
    "import matplotlib.pyplot as plt\n",
    "\n",
    "def get_torch_device():\n",
    "    if torch.cuda.is_available():\n",
    "        return torch.device(\"cuda\")\n",
    "    if hasattr(torch.backends, \"mps\") and torch.backends.mps.is_available():\n",
    "        return torch.device(\"mps\")\n",
    "    return torch.device(\"cpu\")\n",
    "\n",
    "device = get_torch_device()\n",
    "device\n"
   ]
  },
  {
   "cell_type": "markdown",
   "id": "7ee887c9",
   "metadata": {},
   "source": [
    "## Entorno Snake"
   ]
  },
  {
   "cell_type": "code",
   "execution_count": 4,
   "id": "fd12bfda",
   "metadata": {},
   "outputs": [],
   "source": [
    "@dataclass\n",
    "class StepResult:\n",
    "    obs: np.ndarray\n",
    "    reward: float\n",
    "    terminated: bool\n",
    "    truncated: bool\n",
    "    info: dict\n",
    "\n",
    "class SnakeEnv:\n",
    "    def __init__(self, width: int = 12, height: int = 12, max_steps: int = 300, seed: int = 42):\n",
    "        self.W, self.H = width, height\n",
    "        self.max_steps = max_steps\n",
    "        self.rng = np.random.default_rng(seed)\n",
    "        self.actions = 4  # 0:←, 1:↓, 2:→, 3:↑\n",
    "        self.reset()\n",
    "\n",
    "    def reset(self):\n",
    "        self.dir = 2  # derecha\n",
    "        midr, midc = self.H // 2, self.W // 2\n",
    "        self.snake: deque = deque([(midr, midc-1), (midr, midc), (midr, midc+1)])\n",
    "        self._place_food()\n",
    "        self.steps = 0\n",
    "        self.done = False\n",
    "        self.score = 0\n",
    "        return self._obs()\n",
    "\n",
    "    def _place_food(self):\n",
    "        free = [(r, c) for r in range(self.H) for c in range(self.W) if (r, c) not in self.snake]\n",
    "        self.food = free[self.rng.integers(len(free))] if free else None\n",
    "\n",
    "    def _obs(self) -> np.ndarray:\n",
    "        head = np.zeros((self.H, self.W), dtype=np.float32)\n",
    "        body = np.zeros((self.H, self.W), dtype=np.float32)\n",
    "        food = np.zeros((self.H, self.W), dtype=np.float32)\n",
    "        hr, hc = self.snake[-1]\n",
    "        head[hr, hc] = 1.0\n",
    "        for (r, c) in list(self.snake)[:-1]:\n",
    "            body[r, c] = 1.0\n",
    "        if self.food is not None:\n",
    "            fr, fc = self.food\n",
    "            food[fr, fc] = 1.0\n",
    "        return np.stack([head, body, food], axis=0)\n",
    "\n",
    "    def step(self, action: int) -> StepResult:\n",
    "        if self.done:\n",
    "            raise RuntimeError(\"Episodio terminado; usa reset().\")\n",
    "        self.steps += 1\n",
    "        self.dir = int(action)\n",
    "        drc = {0:(0,-1), 1:(1,0), 2:(0,1), 3:(-1,0)}\n",
    "        dr, dc = drc[self.dir]\n",
    "        hr, hc = self.snake[-1]\n",
    "        nr, nc = hr + dr, hc + dc\n",
    "\n",
    "        reward = -0.01\n",
    "        terminated = False\n",
    "        truncated = False\n",
    "\n",
    "        if not (0 <= nr < self.H and 0 <= nc < self.W):\n",
    "            reward = -1.0\n",
    "            terminated = True\n",
    "        else:\n",
    "            if (nr, nc) in self.snake:\n",
    "                reward = -1.0\n",
    "                terminated = True\n",
    "            else:\n",
    "                self.snake.append((nr, nc))\n",
    "                if self.food is not None and (nr, nc) == self.food:\n",
    "                    reward = +1.0\n",
    "                    self.score += 1\n",
    "                    self._place_food()\n",
    "                else:\n",
    "                    self.snake.popleft()\n",
    "\n",
    "        if self.steps >= self.max_steps and not terminated:\n",
    "            truncated = True\n",
    "\n",
    "        self.done = terminated or truncated\n",
    "        return StepResult(self._obs(), reward, terminated, truncated, {\"score\": self.score})\n"
   ]
  },
  {
   "cell_type": "markdown",
   "id": "dad53f77",
   "metadata": {},
   "source": [
    "## DQN con CNN"
   ]
  },
  {
   "cell_type": "code",
   "execution_count": 5,
   "id": "043537cd",
   "metadata": {},
   "outputs": [],
   "source": [
    "\n",
    "class DQNCNN(nn.Module):\n",
    "    def __init__(self, in_channels: int, n_actions: int):\n",
    "        super().__init__()\n",
    "        self.features = nn.Sequential(\n",
    "            nn.Conv2d(in_channels, 32, 3, padding=1), nn.ReLU(),\n",
    "            nn.Conv2d(32, 64, 3, padding=1), nn.ReLU(),\n",
    "            nn.AdaptiveAvgPool2d((1,1))  # Global AvgPool: robusto en MPS\n",
    "        )\n",
    "        self.head = nn.Sequential(\n",
    "            nn.Flatten(),\n",
    "            nn.Linear(64, 256), nn.ReLU(),\n",
    "            nn.Linear(256, n_actions)\n",
    "        )\n",
    "    def forward(self, x):\n",
    "        x = self.features(x)\n",
    "        return self.head(x)\n",
    "\n",
    "class ReplayBuffer:\n",
    "    def __init__(self, capacity: int, obs_shape: Tuple[int,int,int]):\n",
    "        self.capacity = capacity\n",
    "        C,H,W = obs_shape\n",
    "        self.s = np.zeros((capacity, C, H, W), dtype=np.float32)\n",
    "        self.a = np.zeros((capacity,), dtype=np.int64)\n",
    "        self.r = np.zeros((capacity,), dtype=np.float32)\n",
    "        self.ns = np.zeros((capacity, C, H, W), dtype=np.float32)\n",
    "        self.d = np.zeros((capacity,), dtype=np.bool_)\n",
    "        self.idx = 0\n",
    "        self.full = False\n",
    "\n",
    "    def push(self, s, a, r, ns, done):\n",
    "        self.s[self.idx] = s\n",
    "        self.a[self.idx] = a\n",
    "        self.r[self.idx] = r\n",
    "        self.ns[self.idx] = ns\n",
    "        self.d[self.idx] = done\n",
    "        self.idx = (self.idx + 1) % self.capacity\n",
    "        if self.idx == 0: self.full = True\n",
    "\n",
    "    def __len__(self):\n",
    "        return self.capacity if self.full else self.idx\n",
    "\n",
    "    def sample(self, batch_size: int):\n",
    "        N = len(self)\n",
    "        idxs = np.random.randint(0, N, size=batch_size)\n",
    "        return ( self.s[idxs], self.a[idxs], self.r[idxs], self.ns[idxs], self.d[idxs] )\n",
    "\n",
    "def moving_average(x: List[float], w: int = 50):\n",
    "    if len(x) < 2: return np.array(x, dtype=float)\n",
    "    if len(x) < w: w = max(1, len(x)//2)\n",
    "    return np.convolve(np.array(x, dtype=float), np.ones(w)/w, mode=\"valid\")\n"
   ]
  },
  {
   "cell_type": "markdown",
   "id": "20d6306a",
   "metadata": {},
   "source": [
    "## Entrenamiento DQN"
   ]
  },
  {
   "cell_type": "code",
   "execution_count": 6,
   "id": "0279be29",
   "metadata": {},
   "outputs": [],
   "source": [
    "\n",
    "def train_dqn(\n",
    "    episodes=600, grid_size=12, max_steps=300,\n",
    "    gamma=0.99, lr=1e-3,\n",
    "    batch_size=64, buffer_size=50_000, start_learn=1_000,\n",
    "    target_update_freq=1_000, eps_start=1.0, eps_end=0.05, eps_decay=0.995,\n",
    "    seed=42, device=None, verbose=True\n",
    "):\n",
    "    device = device or (torch.device(\"cuda\") if torch.cuda.is_available() else (torch.device(\"mps\") if hasattr(torch.backends, \"mps\") and torch.backends.mps.is_available() else torch.device(\"cpu\")))\n",
    "    env = SnakeEnv(grid_size, grid_size, max_steps, seed)\n",
    "    obs = env.reset()\n",
    "    C,H,W = obs.shape\n",
    "    nA = env.actions\n",
    "\n",
    "    policy_net = DQNCNN(C, nA).to(device)\n",
    "    target_net = DQNCNN(C, nA).to(device)\n",
    "    target_net.load_state_dict(policy_net.state_dict())\n",
    "    target_net.eval()\n",
    "\n",
    "    optimizer = optim.Adam(policy_net.parameters(), lr=lr)\n",
    "    buffer = ReplayBuffer(buffer_size, (C,H,W))\n",
    "\n",
    "    eps = eps_start\n",
    "    step_count = 0\n",
    "    returns = []\n",
    "\n",
    "    torch.manual_seed(seed)\n",
    "    np.random.seed(seed)\n",
    "    random.seed(seed)\n",
    "\n",
    "    for ep in range(episodes):\n",
    "        s = env.reset()\n",
    "        ep_ret = 0.0\n",
    "        for t in range(max_steps):\n",
    "            step_count += 1\n",
    "            # epsilon-greedy\n",
    "            if np.random.rand() < eps:\n",
    "                a = np.random.randint(nA)\n",
    "            else:\n",
    "                with torch.no_grad():\n",
    "                    ts = torch.from_numpy(s).unsqueeze(0).to(device)  # (1,C,H,W)\n",
    "                    q = policy_net(ts)\n",
    "                    a = int(torch.argmax(q, dim=1).item())\n",
    "\n",
    "            res = env.step(a)\n",
    "            ns, r = res.obs, res.reward\n",
    "            done = res.terminated or res.truncated\n",
    "\n",
    "            buffer.push(s, a, r, ns, done)\n",
    "            ep_ret += r\n",
    "            s = ns\n",
    "\n",
    "            # learn\n",
    "            if len(buffer) >= start_learn:\n",
    "                bs, ba, br, bns, bd = buffer.sample(batch_size)\n",
    "                bs = torch.from_numpy(bs).to(device)\n",
    "                ba = torch.from_numpy(ba).to(device)\n",
    "                br = torch.from_numpy(br).to(device)\n",
    "                bns = torch.from_numpy(bns).to(device)\n",
    "                bd = torch.from_numpy(bd.astype(np.float32)).to(device)\n",
    "\n",
    "                # Q(s,a)\n",
    "                qsa = policy_net(bs).gather(1, ba.view(-1,1)).squeeze(1)\n",
    "                with torch.no_grad():\n",
    "                    max_next = target_net(bns).max(1)[0]\n",
    "                    target = br + gamma * (1.0 - bd) * max_next\n",
    "                loss = nn.SmoothL1Loss()(qsa, target)\n",
    "\n",
    "                optimizer.zero_grad()\n",
    "                loss.backward()\n",
    "                nn.utils.clip_grad_norm_(policy_net.parameters(), 5.0)\n",
    "                optimizer.step()\n",
    "\n",
    "                # target update\n",
    "                if step_count % target_update_freq == 0:\n",
    "                    target_net.load_state_dict(policy_net.state_dict())\n",
    "\n",
    "            if done:\n",
    "                break\n",
    "\n",
    "        # epsilon decay por episodio\n",
    "        eps = max(eps_end, eps * eps_decay)\n",
    "        returns.append(ep_ret)\n",
    "\n",
    "        if verbose and ((ep+1) % max(1, episodes//10) == 0):\n",
    "            ma = moving_average(returns, 50)\n",
    "            msg = f\"[Ep {ep+1:4d}] Return: {ep_ret:6.2f} | eps={eps:.3f}\"\n",
    "            if len(ma) > 0:\n",
    "                msg += f\" | MA50={ma[-1]:.2f}\"\n",
    "            print(msg)\n",
    "\n",
    "    return policy_net, returns, env\n"
   ]
  },
  {
   "cell_type": "markdown",
   "id": "9f6e977d",
   "metadata": {},
   "source": [
    "### Ejecutar entrenamiento"
   ]
  },
  {
   "cell_type": "code",
   "execution_count": 7,
   "id": "bcb74eef",
   "metadata": {},
   "outputs": [
    {
     "name": "stderr",
     "output_type": "stream",
     "text": [
      "/opt/anaconda3/envs/mipy/lib/python3.11/site-packages/tqdm/auto.py:21: TqdmWarning: IProgress not found. Please update jupyter and ipywidgets. See https://ipywidgets.readthedocs.io/en/stable/user_install.html\n",
      "  from .autonotebook import tqdm as notebook_tqdm\n"
     ]
    },
    {
     "name": "stdout",
     "output_type": "stream",
     "text": [
      "[Ep   80] Return:  -1.08 | eps=0.670 | MA50=-0.99\n",
      "[Ep  160] Return:  -1.01 | eps=0.448 | MA50=-1.03\n",
      "[Ep  240] Return:  -1.06 | eps=0.300 | MA50=-1.02\n",
      "[Ep  320] Return:  -1.08 | eps=0.201 | MA50=-0.90\n",
      "[Ep  400] Return:  -0.21 | eps=0.135 | MA50=-0.65\n",
      "[Ep  480] Return:   3.81 | eps=0.090 | MA50=-0.32\n",
      "[Ep  560] Return:   0.91 | eps=0.060 | MA50=0.64\n",
      "[Ep  640] Return:  -0.06 | eps=0.050 | MA50=3.83\n",
      "[Ep  720] Return:   6.31 | eps=0.050 | MA50=3.15\n",
      "[Ep  800] Return:  -1.00 | eps=0.050 | MA50=3.41\n"
     ]
    },
    {
     "data": {
      "text/plain": [
       "(800, [-1.0, -1.05, -1.01, -1.04, -1.08])"
      ]
     },
     "execution_count": 7,
     "metadata": {},
     "output_type": "execute_result"
    }
   ],
   "source": [
    "\n",
    "policy, returns, env = train_dqn(\n",
    "    episodes=800,     \n",
    "    grid_size=12,\n",
    "    max_steps=300,\n",
    "    gamma=0.99,\n",
    "    lr=1e-3,\n",
    "    batch_size=64,\n",
    "    buffer_size=50_000,\n",
    "    start_learn=1_000,\n",
    "    target_update_freq=1_000,\n",
    "    eps_start=1.0, eps_end=0.05, eps_decay=0.995,\n",
    "    seed=42,\n",
    "    device=device,\n",
    "    verbose=True\n",
    ")\n",
    "len(returns), returns[:5]\n"
   ]
  },
  {
   "cell_type": "markdown",
   "id": "db59c67e",
   "metadata": {},
   "source": [
    "### Gráfico de convergencia (MA=50)"
   ]
  },
  {
   "cell_type": "code",
   "execution_count": 8,
   "id": "9c98e7cc",
   "metadata": {},
   "outputs": [
    {
     "data": {
      "image/png": "[encoded data removed]",
      "text/plain": [
       "<Figure size 800x400 with 1 Axes>"
      ]
     },
     "metadata": {},
     "output_type": "display_data"
    }
   ],
   "source": [
    "\n",
    "plt.figure(figsize=(8,4))\n",
    "ma = moving_average(returns, 50)\n",
    "plt.plot(ma)\n",
    "plt.title(\"Convergencia DQN (Reward por episodio, MA=50)\")\n",
    "plt.xlabel(\"Episodios\"); plt.ylabel(\"Reward (MA=50)\"); plt.grid(True)\n",
    "plt.tight_layout()\n",
    "plt.show()\n"
   ]
  },
  {
   "cell_type": "markdown",
   "id": "7b9bc16f",
   "metadata": {},
   "source": [
    "### Evaluación greedy (ε=0)"
   ]
  },
  {
   "cell_type": "code",
   "execution_count": 9,
   "id": "529510e3",
   "metadata": {},
   "outputs": [
    {
     "data": {
      "text/plain": [
       "(15.251899999999962, 18.11)"
      ]
     },
     "execution_count": 9,
     "metadata": {},
     "output_type": "execute_result"
    }
   ],
   "source": [
    "\n",
    "def evaluate_greedy(policy_net, episodes=100, grid_size=12, max_steps=300, seed=123):\n",
    "    env = SnakeEnv(grid_size, grid_size, max_steps, seed)\n",
    "    policy_net.eval()\n",
    "    total = 0.0\n",
    "    foods = 0\n",
    "    for ep in range(episodes):\n",
    "        s = env.reset()\n",
    "        ep_ret = 0.0\n",
    "        while True:\n",
    "            with torch.no_grad():\n",
    "                ts = torch.from_numpy(s).unsqueeze(0).to(next(policy_net.parameters()).device)\n",
    "                q = policy_net(ts)\n",
    "                a = int(torch.argmax(q, dim=1).item())\n",
    "            res = env.step(a)\n",
    "            s = res.obs\n",
    "            ep_ret += res.reward\n",
    "            if res.reward > 0: foods += 1\n",
    "            if res.terminated or res.truncated: break\n",
    "        total += ep_ret\n",
    "    return total/episodes, foods/episodes\n",
    "\n",
    "avg_ret, avg_food = evaluate_greedy(policy, episodes=100, grid_size=12, max_steps=300)\n",
    "avg_ret, avg_food\n"
   ]
  },
  {
   "cell_type": "markdown",
   "id": "bd011903",
   "metadata": {},
   "source": [
    "### Guardar / Cargar pesos"
   ]
  },
  {
   "cell_type": "code",
   "execution_count": null,
   "id": "20445523",
   "metadata": {},
   "outputs": [
    {
     "name": "stdout",
     "output_type": "stream",
     "text": [
      "Pesos guardados en snake_dqn_weights.pth\n"
     ]
    }
   ],
   "source": [
    "\n",
    "WEIGHTS_PATH = \"snake_dqn_weights.pth\"\n",
    "torch.save(policy.state_dict(), WEIGHTS_PATH)\n",
    "print(\"Pesos guardados en\", WEIGHTS_PATH)"
   ]
  },
  {
   "cell_type": "code",
   "execution_count": 11,
   "id": "165cecff",
   "metadata": {},
   "outputs": [
    {
     "data": {
      "text/plain": [
       "DQNCNN(\n",
       "  (features): Sequential(\n",
       "    (0): Conv2d(3, 32, kernel_size=(3, 3), stride=(1, 1), padding=(1, 1))\n",
       "    (1): ReLU()\n",
       "    (2): Conv2d(32, 64, kernel_size=(3, 3), stride=(1, 1), padding=(1, 1))\n",
       "    (3): ReLU()\n",
       "    (4): AdaptiveAvgPool2d(output_size=(1, 1))\n",
       "  )\n",
       "  (head): Sequential(\n",
       "    (0): Flatten(start_dim=1, end_dim=-1)\n",
       "    (1): Linear(in_features=64, out_features=256, bias=True)\n",
       "    (2): ReLU()\n",
       "    (3): Linear(in_features=256, out_features=4, bias=True)\n",
       "  )\n",
       ")"
      ]
     },
     "execution_count": 11,
     "metadata": {},
     "output_type": "execute_result"
    }
   ],
   "source": [
    "# Ejemplo de carga:\n",
    "model = DQNCNN(3, 4).to(device)\n",
    "model.load_state_dict(torch.load(WEIGHTS_PATH, map_location=device))\n",
    "model.eval()\n"
   ]
  }
 ],
 "metadata": {
  "kernelspec": {
   "display_name": "mipy",
   "language": "python",
   "name": "python3"
  },
  "language_info": {
   "codemirror_mode": {
    "name": "ipython",
    "version": 3
   },
   "file_extension": ".py",
   "mimetype": "text/x-python",
   "name": "python",
   "nbconvert_exporter": "python",
   "pygments_lexer": "ipython3",
   "version": "3.11.10"
  }
 },
 "nbformat": 4,
 "nbformat_minor": 5
}
